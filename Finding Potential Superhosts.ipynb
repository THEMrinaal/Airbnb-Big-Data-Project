{
 "cells": [
  {
   "cell_type": "markdown",
   "metadata": {},
   "source": [
    "# Finding potential Superhosts based on various features!"
   ]
  },
  {
   "cell_type": "code",
   "execution_count": 111,
   "metadata": {},
   "outputs": [],
   "source": [
    "import pandas as pd\n",
    "import missingno as msno\n",
    "import matplotlib.pyplot as plt\n",
    "import seaborn as sns\n",
    "import numpy as np\n",
    "import plotly\n",
    "import cufflinks \n",
    "%matplotlib inline"
   ]
  },
  {
   "cell_type": "markdown",
   "metadata": {},
   "source": [
    "# Reading Data and doing little bit of data exploration!"
   ]
  },
  {
   "cell_type": "code",
   "execution_count": 73,
   "metadata": {},
   "outputs": [],
   "source": [
    "df= pd.read_csv('RecommendListings.csv')"
   ]
  },
  {
   "cell_type": "code",
   "execution_count": 74,
   "metadata": {},
   "outputs": [
    {
     "data": {
      "text/html": [
       "<div>\n",
       "<style scoped>\n",
       "    .dataframe tbody tr th:only-of-type {\n",
       "        vertical-align: middle;\n",
       "    }\n",
       "\n",
       "    .dataframe tbody tr th {\n",
       "        vertical-align: top;\n",
       "    }\n",
       "\n",
       "    .dataframe thead th {\n",
       "        text-align: right;\n",
       "    }\n",
       "</style>\n",
       "<table border=\"1\" class=\"dataframe\">\n",
       "  <thead>\n",
       "    <tr style=\"text-align: right;\">\n",
       "      <th></th>\n",
       "      <th>id</th>\n",
       "      <th>name</th>\n",
       "      <th>host_id</th>\n",
       "      <th>host_response_rate</th>\n",
       "      <th>host_is_superhost</th>\n",
       "      <th>host_total_listings_count</th>\n",
       "      <th>host_verifications</th>\n",
       "      <th>city</th>\n",
       "      <th>latitude</th>\n",
       "      <th>longitude</th>\n",
       "      <th>...</th>\n",
       "      <th>minimum_nights</th>\n",
       "      <th>maximum_nights</th>\n",
       "      <th>number_of_reviews</th>\n",
       "      <th>requires_license</th>\n",
       "      <th>instant_bookable</th>\n",
       "      <th>cancellation_policy</th>\n",
       "      <th>guest_score</th>\n",
       "      <th>final_rev_score</th>\n",
       "      <th>booked</th>\n",
       "      <th>price</th>\n",
       "    </tr>\n",
       "  </thead>\n",
       "  <tbody>\n",
       "    <tr>\n",
       "      <th>0</th>\n",
       "      <td>2078</td>\n",
       "      <td>Central comfy close to Metro Laurie</td>\n",
       "      <td>2277</td>\n",
       "      <td>0.0</td>\n",
       "      <td>0</td>\n",
       "      <td>1</td>\n",
       "      <td>6</td>\n",
       "      <td>Montreal</td>\n",
       "      <td>45.53069</td>\n",
       "      <td>-73.58588</td>\n",
       "      <td>...</td>\n",
       "      <td>2</td>\n",
       "      <td>7</td>\n",
       "      <td>245</td>\n",
       "      <td>0</td>\n",
       "      <td>1</td>\n",
       "      <td>2</td>\n",
       "      <td>0</td>\n",
       "      <td>9.55</td>\n",
       "      <td>0.279452</td>\n",
       "      <td>38</td>\n",
       "    </tr>\n",
       "    <tr>\n",
       "      <th>1</th>\n",
       "      <td>2843</td>\n",
       "      <td>Fabulous downtown/airport room</td>\n",
       "      <td>2319</td>\n",
       "      <td>1.0</td>\n",
       "      <td>0</td>\n",
       "      <td>5</td>\n",
       "      <td>7</td>\n",
       "      <td>Montreal</td>\n",
       "      <td>45.48442</td>\n",
       "      <td>-73.57923</td>\n",
       "      <td>...</td>\n",
       "      <td>1</td>\n",
       "      <td>365</td>\n",
       "      <td>139</td>\n",
       "      <td>0</td>\n",
       "      <td>1</td>\n",
       "      <td>1</td>\n",
       "      <td>0</td>\n",
       "      <td>9.20</td>\n",
       "      <td>0.224658</td>\n",
       "      <td>31</td>\n",
       "    </tr>\n",
       "    <tr>\n",
       "      <th>2</th>\n",
       "      <td>14584</td>\n",
       "      <td>Spread Out in 1,200 Square Feet of Luxury in t...</td>\n",
       "      <td>57358</td>\n",
       "      <td>1.0</td>\n",
       "      <td>1</td>\n",
       "      <td>1</td>\n",
       "      <td>8</td>\n",
       "      <td>Montreal</td>\n",
       "      <td>45.54135</td>\n",
       "      <td>-73.57814</td>\n",
       "      <td>...</td>\n",
       "      <td>3</td>\n",
       "      <td>1125</td>\n",
       "      <td>166</td>\n",
       "      <td>0</td>\n",
       "      <td>0</td>\n",
       "      <td>0</td>\n",
       "      <td>0</td>\n",
       "      <td>9.90</td>\n",
       "      <td>0.060274</td>\n",
       "      <td>175</td>\n",
       "    </tr>\n",
       "    <tr>\n",
       "      <th>3</th>\n",
       "      <td>29059</td>\n",
       "      <td>Lovely studio Quartier Latin</td>\n",
       "      <td>125031</td>\n",
       "      <td>1.0</td>\n",
       "      <td>0</td>\n",
       "      <td>3</td>\n",
       "      <td>8</td>\n",
       "      <td>Montreal</td>\n",
       "      <td>45.51888</td>\n",
       "      <td>-73.56546</td>\n",
       "      <td>...</td>\n",
       "      <td>3</td>\n",
       "      <td>60</td>\n",
       "      <td>307</td>\n",
       "      <td>0</td>\n",
       "      <td>0</td>\n",
       "      <td>1</td>\n",
       "      <td>0</td>\n",
       "      <td>9.60</td>\n",
       "      <td>0.134247</td>\n",
       "      <td>94</td>\n",
       "    </tr>\n",
       "    <tr>\n",
       "      <th>4</th>\n",
       "      <td>29061</td>\n",
       "      <td>Maison historique - Quartier Latin</td>\n",
       "      <td>125031</td>\n",
       "      <td>1.0</td>\n",
       "      <td>0</td>\n",
       "      <td>3</td>\n",
       "      <td>8</td>\n",
       "      <td>Montreal</td>\n",
       "      <td>45.52020</td>\n",
       "      <td>-73.56422</td>\n",
       "      <td>...</td>\n",
       "      <td>3</td>\n",
       "      <td>21</td>\n",
       "      <td>56</td>\n",
       "      <td>0</td>\n",
       "      <td>1</td>\n",
       "      <td>1</td>\n",
       "      <td>0</td>\n",
       "      <td>9.40</td>\n",
       "      <td>0.060274</td>\n",
       "      <td>145</td>\n",
       "    </tr>\n",
       "  </tbody>\n",
       "</table>\n",
       "<p>5 rows × 31 columns</p>\n",
       "</div>"
      ],
      "text/plain": [
       "      id                                               name  host_id  \\\n",
       "0   2078                Central comfy close to Metro Laurie     2277   \n",
       "1   2843                     Fabulous downtown/airport room     2319   \n",
       "2  14584  Spread Out in 1,200 Square Feet of Luxury in t...    57358   \n",
       "3  29059                       Lovely studio Quartier Latin   125031   \n",
       "4  29061                 Maison historique - Quartier Latin   125031   \n",
       "\n",
       "   host_response_rate  host_is_superhost  host_total_listings_count  \\\n",
       "0                 0.0                  0                          1   \n",
       "1                 1.0                  0                          5   \n",
       "2                 1.0                  1                          1   \n",
       "3                 1.0                  0                          3   \n",
       "4                 1.0                  0                          3   \n",
       "\n",
       "   host_verifications      city  latitude  longitude  ...  minimum_nights  \\\n",
       "0                   6  Montreal  45.53069  -73.58588  ...               2   \n",
       "1                   7  Montreal  45.48442  -73.57923  ...               1   \n",
       "2                   8  Montreal  45.54135  -73.57814  ...               3   \n",
       "3                   8  Montreal  45.51888  -73.56546  ...               3   \n",
       "4                   8  Montreal  45.52020  -73.56422  ...               3   \n",
       "\n",
       "  maximum_nights  number_of_reviews  requires_license  instant_bookable  \\\n",
       "0              7                245                 0                 1   \n",
       "1            365                139                 0                 1   \n",
       "2           1125                166                 0                 0   \n",
       "3             60                307                 0                 0   \n",
       "4             21                 56                 0                 1   \n",
       "\n",
       "   cancellation_policy  guest_score  final_rev_score    booked  price  \n",
       "0                    2            0             9.55  0.279452     38  \n",
       "1                    1            0             9.20  0.224658     31  \n",
       "2                    0            0             9.90  0.060274    175  \n",
       "3                    1            0             9.60  0.134247     94  \n",
       "4                    1            0             9.40  0.060274    145  \n",
       "\n",
       "[5 rows x 31 columns]"
      ]
     },
     "execution_count": 74,
     "metadata": {},
     "output_type": "execute_result"
    }
   ],
   "source": [
    "df.head()"
   ]
  },
  {
   "cell_type": "code",
   "execution_count": 75,
   "metadata": {},
   "outputs": [
    {
     "data": {
      "text/plain": [
       "(47646, 31)"
      ]
     },
     "execution_count": 75,
     "metadata": {},
     "output_type": "execute_result"
    }
   ],
   "source": [
    "df.shape"
   ]
  },
  {
   "cell_type": "code",
   "execution_count": 76,
   "metadata": {},
   "outputs": [],
   "source": [
    "#Removing useless columns, here host_id\n",
    "df=df.drop(columns=['host_id','id','name'],axis=1)"
   ]
  },
  {
   "cell_type": "code",
   "execution_count": 77,
   "metadata": {},
   "outputs": [
    {
     "data": {
      "text/plain": [
       "<matplotlib.axes._subplots.AxesSubplot at 0x7f3fd7d20550>"
      ]
     },
     "execution_count": 77,
     "metadata": {},
     "output_type": "execute_result"
    }
   ],
   "source": [
    "#checking if there is any missing value in the data!!\n",
    "msno.matrix(df)"
   ]
  },
  {
   "cell_type": "code",
   "execution_count": 78,
   "metadata": {},
   "outputs": [
    {
     "name": "stdout",
     "output_type": "stream",
     "text": [
      "<class 'pandas.core.frame.DataFrame'>\n",
      "RangeIndex: 47646 entries, 0 to 47645\n",
      "Data columns (total 28 columns):\n",
      "host_response_rate           47646 non-null float64\n",
      "host_is_superhost            47646 non-null int64\n",
      "host_total_listings_count    47646 non-null int64\n",
      "host_verifications           47646 non-null int64\n",
      "city                         47646 non-null object\n",
      "latitude                     47646 non-null float64\n",
      "longitude                    47646 non-null float64\n",
      "is_location_exact            47646 non-null int64\n",
      "room_type                    47646 non-null object\n",
      "accommodates                 47646 non-null int64\n",
      "bathrooms                    47646 non-null float64\n",
      "bedrooms                     47646 non-null int64\n",
      "beds                         47646 non-null int64\n",
      "amenities                    47646 non-null int64\n",
      "security_deposit             47646 non-null int64\n",
      "cleaning_fee                 47646 non-null int64\n",
      "guests_included              47646 non-null int64\n",
      "extra_people                 47646 non-null int64\n",
      "minimum_nights               47646 non-null int64\n",
      "maximum_nights               47646 non-null int64\n",
      "number_of_reviews            47646 non-null int64\n",
      "requires_license             47646 non-null int64\n",
      "instant_bookable             47646 non-null int64\n",
      "cancellation_policy          47646 non-null int64\n",
      "guest_score                  47646 non-null int64\n",
      "final_rev_score              47646 non-null float64\n",
      "booked                       47646 non-null float64\n",
      "price                        47646 non-null int64\n",
      "dtypes: float64(6), int64(20), object(2)\n",
      "memory usage: 10.2+ MB\n"
     ]
    }
   ],
   "source": [
    "df.info()"
   ]
  },
  {
   "cell_type": "markdown",
   "metadata": {},
   "source": [
    "# categorical data to dummy variable or encoding!"
   ]
  },
  {
   "cell_type": "code",
   "execution_count": 79,
   "metadata": {},
   "outputs": [],
   "source": [
    "df=pd.get_dummies(df, columns=['city'])"
   ]
  },
  {
   "cell_type": "code",
   "execution_count": 80,
   "metadata": {},
   "outputs": [],
   "source": [
    "df=pd.get_dummies(df, columns=['room_type'])"
   ]
  },
  {
   "cell_type": "markdown",
   "metadata": {},
   "source": [
    "# To avoid dummy variable trap, we need to drop one column each from dummy variables!"
   ]
  },
  {
   "cell_type": "code",
   "execution_count": 81,
   "metadata": {},
   "outputs": [
    {
     "name": "stdout",
     "output_type": "stream",
     "text": [
      "<class 'pandas.core.frame.DataFrame'>\n",
      "RangeIndex: 47646 entries, 0 to 47645\n",
      "Data columns (total 33 columns):\n",
      "host_response_rate           47646 non-null float64\n",
      "host_is_superhost            47646 non-null int64\n",
      "host_total_listings_count    47646 non-null int64\n",
      "host_verifications           47646 non-null int64\n",
      "latitude                     47646 non-null float64\n",
      "longitude                    47646 non-null float64\n",
      "is_location_exact            47646 non-null int64\n",
      "accommodates                 47646 non-null int64\n",
      "bathrooms                    47646 non-null float64\n",
      "bedrooms                     47646 non-null int64\n",
      "beds                         47646 non-null int64\n",
      "amenities                    47646 non-null int64\n",
      "security_deposit             47646 non-null int64\n",
      "cleaning_fee                 47646 non-null int64\n",
      "guests_included              47646 non-null int64\n",
      "extra_people                 47646 non-null int64\n",
      "minimum_nights               47646 non-null int64\n",
      "maximum_nights               47646 non-null int64\n",
      "number_of_reviews            47646 non-null int64\n",
      "requires_license             47646 non-null int64\n",
      "instant_bookable             47646 non-null int64\n",
      "cancellation_policy          47646 non-null int64\n",
      "guest_score                  47646 non-null int64\n",
      "final_rev_score              47646 non-null float64\n",
      "booked                       47646 non-null float64\n",
      "price                        47646 non-null int64\n",
      "city_Montreal                47646 non-null uint8\n",
      "city_Torronto                47646 non-null uint8\n",
      "city_Vancouver               47646 non-null uint8\n",
      "room_type_Entire home/apt    47646 non-null uint8\n",
      "room_type_Hotel room         47646 non-null uint8\n",
      "room_type_Private room       47646 non-null uint8\n",
      "room_type_Shared room        47646 non-null uint8\n",
      "dtypes: float64(6), int64(20), uint8(7)\n",
      "memory usage: 9.8 MB\n"
     ]
    }
   ],
   "source": [
    "df.info()"
   ]
  },
  {
   "cell_type": "code",
   "execution_count": 82,
   "metadata": {},
   "outputs": [],
   "source": [
    "df=df.drop(columns=['room_type_Shared room','city_Vancouver'],axis=1)"
   ]
  },
  {
   "cell_type": "markdown",
   "metadata": {},
   "source": [
    "# I want the column 'host_is_superhost' in the end for easily extracting it after Normalization!"
   ]
  },
  {
   "cell_type": "code",
   "execution_count": 83,
   "metadata": {},
   "outputs": [],
   "source": [
    "cols = list(df.columns.values) \n",
    "cols.pop(cols.index('host_is_superhost'))\n",
    "df = df[cols+['host_is_superhost']]"
   ]
  },
  {
   "cell_type": "code",
   "execution_count": 84,
   "metadata": {},
   "outputs": [
    {
     "data": {
      "text/plain": [
       "(47646, 31)"
      ]
     },
     "execution_count": 84,
     "metadata": {},
     "output_type": "execute_result"
    }
   ],
   "source": [
    "df.shape"
   ]
  },
  {
   "cell_type": "markdown",
   "metadata": {},
   "source": [
    "# Pre-processing of the data!"
   ]
  },
  {
   "cell_type": "code",
   "execution_count": 85,
   "metadata": {},
   "outputs": [],
   "source": [
    "data=df.values"
   ]
  },
  {
   "cell_type": "code",
   "execution_count": 86,
   "metadata": {},
   "outputs": [],
   "source": [
    "from sklearn.preprocessing import MinMaxScaler"
   ]
  },
  {
   "cell_type": "code",
   "execution_count": 87,
   "metadata": {},
   "outputs": [],
   "source": [
    "scaler = MinMaxScaler()"
   ]
  },
  {
   "cell_type": "code",
   "execution_count": 88,
   "metadata": {},
   "outputs": [
    {
     "data": {
      "text/plain": [
       "MinMaxScaler(copy=True, feature_range=(0, 1))"
      ]
     },
     "execution_count": 88,
     "metadata": {},
     "output_type": "execute_result"
    }
   ],
   "source": [
    "scaler.fit(data)"
   ]
  },
  {
   "cell_type": "markdown",
   "metadata": {},
   "source": [
    "# Splitting data into X and y"
   ]
  },
  {
   "cell_type": "code",
   "execution_count": 89,
   "metadata": {},
   "outputs": [],
   "source": [
    "y=data[:,-1]"
   ]
  },
  {
   "cell_type": "code",
   "execution_count": 90,
   "metadata": {},
   "outputs": [],
   "source": [
    "X=data[:,:-1]"
   ]
  },
  {
   "cell_type": "code",
   "execution_count": 91,
   "metadata": {},
   "outputs": [
    {
     "data": {
      "text/plain": [
       "(47646, 30)"
      ]
     },
     "execution_count": 91,
     "metadata": {},
     "output_type": "execute_result"
    }
   ],
   "source": [
    "X.shape"
   ]
  },
  {
   "cell_type": "code",
   "execution_count": 92,
   "metadata": {},
   "outputs": [
    {
     "data": {
      "text/plain": [
       "(47646,)"
      ]
     },
     "execution_count": 92,
     "metadata": {},
     "output_type": "execute_result"
    }
   ],
   "source": [
    "y.shape"
   ]
  },
  {
   "cell_type": "code",
   "execution_count": 93,
   "metadata": {},
   "outputs": [
    {
     "data": {
      "text/plain": [
       "numpy.ndarray"
      ]
     },
     "execution_count": 93,
     "metadata": {},
     "output_type": "execute_result"
    }
   ],
   "source": [
    "type(X)"
   ]
  },
  {
   "cell_type": "code",
   "execution_count": 94,
   "metadata": {},
   "outputs": [
    {
     "data": {
      "text/plain": [
       "numpy.ndarray"
      ]
     },
     "execution_count": 94,
     "metadata": {},
     "output_type": "execute_result"
    }
   ],
   "source": [
    "type(y)"
   ]
  },
  {
   "cell_type": "markdown",
   "metadata": {},
   "source": [
    "# Splitting data into Train, Validation and Testing set!!  [0.64 , 0.16 , 0.2]"
   ]
  },
  {
   "cell_type": "code",
   "execution_count": 95,
   "metadata": {},
   "outputs": [],
   "source": [
    "from sklearn.model_selection import train_test_split\n",
    "X_train, X_test, y_train, y_test = train_test_split(X, y, test_size=0.2, random_state=1)\n",
    "X_train, X_val, y_train, y_val = train_test_split(X_train, y_train, test_size=0.2, random_state=1)"
   ]
  },
  {
   "cell_type": "markdown",
   "metadata": {},
   "source": [
    "# KNN Classifier!"
   ]
  },
  {
   "cell_type": "code",
   "execution_count": 96,
   "metadata": {},
   "outputs": [
    {
     "data": {
      "text/plain": [
       "0.7730849947534103"
      ]
     },
     "execution_count": 96,
     "metadata": {},
     "output_type": "execute_result"
    }
   ],
   "source": [
    "from sklearn.neighbors import  KNeighborsClassifier\n",
    "clf= KNeighborsClassifier(n_neighbors=5)\n",
    "clf.fit(X_train, y_train)\n",
    "clf.score(X_val,y_val)"
   ]
  },
  {
   "cell_type": "markdown",
   "metadata": {},
   "source": [
    "# RandomForest Classifier!"
   ]
  },
  {
   "cell_type": "code",
   "execution_count": 97,
   "metadata": {},
   "outputs": [
    {
     "data": {
      "text/plain": [
       "0.863588667366212"
      ]
     },
     "execution_count": 97,
     "metadata": {},
     "output_type": "execute_result"
    }
   ],
   "source": [
    "from sklearn.ensemble import RandomForestClassifier\n",
    "clf = RandomForestClassifier(n_estimators=10, max_depth=None,min_samples_split=2, random_state=0)\n",
    "clf.fit(X_train,y_train)\n",
    "clf.score(X_val,y_val)"
   ]
  },
  {
   "cell_type": "markdown",
   "metadata": {},
   "source": [
    "# Adaboost Classifier!"
   ]
  },
  {
   "cell_type": "code",
   "execution_count": 98,
   "metadata": {},
   "outputs": [
    {
     "data": {
      "text/plain": [
       "0.8377754459601259"
      ]
     },
     "execution_count": 98,
     "metadata": {},
     "output_type": "execute_result"
    }
   ],
   "source": [
    "from sklearn.ensemble import AdaBoostClassifier\n",
    "clf = AdaBoostClassifier(n_estimators=10)\n",
    "clf.fit(X_train,y_train)\n",
    "clf.score(X_test,y_test)"
   ]
  },
  {
   "cell_type": "markdown",
   "metadata": {},
   "source": [
    "# Support Vector Machine Classifier!"
   ]
  },
  {
   "cell_type": "code",
   "execution_count": 99,
   "metadata": {},
   "outputs": [
    {
     "data": {
      "text/plain": [
       "0.7507869884575026"
      ]
     },
     "execution_count": 99,
     "metadata": {},
     "output_type": "execute_result"
    }
   ],
   "source": [
    "from sklearn import svm\n",
    "clf = svm.SVC(gamma='scale')\n",
    "clf.fit(X_train, y_train)  \n",
    "clf.score(X_test,y_test)"
   ]
  },
  {
   "cell_type": "markdown",
   "metadata": {},
   "source": [
    "# logistic Regression Classifier!"
   ]
  },
  {
   "cell_type": "code",
   "execution_count": 100,
   "metadata": {},
   "outputs": [
    {
     "data": {
      "text/plain": [
       "0.7679695697796433"
      ]
     },
     "execution_count": 100,
     "metadata": {},
     "output_type": "execute_result"
    }
   ],
   "source": [
    "from sklearn.linear_model import LogisticRegression\n",
    "clf = LogisticRegression(random_state=0, solver='lbfgs').fit(X_train, y_train)\n",
    "clf.fit(X_train,y_train)\n",
    "clf.score(X_val,y_val)"
   ]
  },
  {
   "cell_type": "markdown",
   "metadata": {},
   "source": [
    "# Since, RF classifier outperformed everyone. Thus, tuning RF classifier!"
   ]
  },
  {
   "cell_type": "code",
   "execution_count": 101,
   "metadata": {},
   "outputs": [],
   "source": [
    "RFscores={}\n",
    "for i in range(10,250,10):\n",
    "    clf = RandomForestClassifier(n_estimators=i, max_depth=None,min_samples_split=2, random_state=0)\n",
    "    clf.fit(X_train,y_train)\n",
    "    val=clf.score(X_val,y_val)\n",
    "    RFscores[i]=val\n",
    "    \n",
    "    "
   ]
  },
  {
   "cell_type": "code",
   "execution_count": 102,
   "metadata": {},
   "outputs": [],
   "source": [
    "x_axis= [i for i in range(10,250,10)]\n",
    "y_axis=list(RFscores.values())"
   ]
  },
  {
   "cell_type": "code",
   "execution_count": 103,
   "metadata": {},
   "outputs": [
    {
     "data": {
      "text/plain": [
       "[<matplotlib.lines.Line2D at 0x7f3fd4200b38>]"
      ]
     },
     "execution_count": 103,
     "metadata": {},
     "output_type": "execute_result"
    }
   ],
   "source": [
    "plt.plot(x_axis,y_axis)"
   ]
  },
  {
   "cell_type": "code",
   "execution_count": 104,
   "metadata": {},
   "outputs": [],
   "source": [
    "index_max=max(RFscores, key=RFscores.get)"
   ]
  },
  {
   "cell_type": "code",
   "execution_count": 105,
   "metadata": {},
   "outputs": [
    {
     "data": {
      "text/plain": [
       "130"
      ]
     },
     "execution_count": 105,
     "metadata": {},
     "output_type": "execute_result"
    }
   ],
   "source": [
    "index_max"
   ]
  },
  {
   "cell_type": "code",
   "execution_count": 106,
   "metadata": {},
   "outputs": [
    {
     "data": {
      "text/plain": [
       "0.8765739769150053"
      ]
     },
     "execution_count": 106,
     "metadata": {},
     "output_type": "execute_result"
    }
   ],
   "source": [
    "clf = RandomForestClassifier(n_estimators=130, max_depth=None,min_samples_split=2, random_state=0)\n",
    "clf.fit(X_train,y_train)\n",
    "clf.score(X_val,y_val)"
   ]
  },
  {
   "cell_type": "code",
   "execution_count": 107,
   "metadata": {},
   "outputs": [
    {
     "data": {
      "text/plain": [
       "0.8737670514165792"
      ]
     },
     "execution_count": 107,
     "metadata": {},
     "output_type": "execute_result"
    }
   ],
   "source": [
    "clf.score(X_test,y_test)"
   ]
  },
  {
   "cell_type": "markdown",
   "metadata": {},
   "source": [
    "# 87.37% on Testing set! using Random Forest Classifier!"
   ]
  },
  {
   "cell_type": "markdown",
   "metadata": {},
   "source": [
    "# Identifying Important Features Which makes a Host -> Superhost"
   ]
  },
  {
   "cell_type": "code",
   "execution_count": 108,
   "metadata": {},
   "outputs": [
    {
     "name": "stdout",
     "output_type": "stream",
     "text": [
      "host_response_rate = 0.0647625690233081\n",
      "host_total_listings_count = 0.05828299093538466\n",
      "host_verifications = 0.038449064078431246\n",
      "latitude = 0.05180734632119473\n",
      "longitude = 0.051735172124566076\n",
      "is_location_exact = 0.006681908962802354\n",
      "accommodates = 0.019663400945063938\n",
      "bathrooms = 0.010307871998285154\n",
      "bedrooms = 0.008826785055260751\n",
      "beds = 0.013828557940656131\n",
      "amenities = 0.025145322761195972\n",
      "security_deposit = 0.029194143080702662\n",
      "cleaning_fee = 0.04177952661603636\n",
      "guests_included = 0.014276358261502427\n",
      "extra_people = 0.0265660233254083\n",
      "minimum_nights = 0.026974403593531177\n",
      "maximum_nights = 0.026718539456335216\n",
      "number_of_reviews = 0.16532087411985497\n",
      "requires_license = 0.0029148174064373904\n",
      "instant_bookable = 0.0086029200597253\n",
      "cancellation_policy = 0.01635119731378948\n",
      "guest_score = 0.0021917931056874705\n",
      "final_rev_score = 0.17607807906625617\n",
      "booked = 0.04863137498777949\n",
      "price = 0.04455062984951876\n",
      "city_Montreal = 0.0048149835462804064\n",
      "city_Torronto = 0.004172627843599444\n",
      "room_type_Entire home/apt = 0.004909997915514308\n",
      "room_type_Hotel room = 0.0015901087307497236\n",
      "room_type_Private room = 0.004870611575141913\n"
     ]
    }
   ],
   "source": [
    "for name, importance in zip(df.columns[:-1],clf.feature_importances_):\n",
    "    print(name, \"=\", importance)"
   ]
  },
  {
   "cell_type": "code",
   "execution_count": 112,
   "metadata": {},
   "outputs": [
    {
     "data": {
      "image/png": "[encoded data removed]",
      "text/plain": [
       "<Figure size 1440x1440 with 1 Axes>"
      ]
     },
     "metadata": {
      "needs_background": "light"
     },
     "output_type": "display_data"
    }
   ],
   "source": [
    "\n",
    "plt.figure(figsize=(20,20))\n",
    "features = df.columns[:-1]\n",
    "importances = clf.feature_importances_\n",
    "indices = np.argsort(importances)\n",
    "plt.title('Feature Importances')\n",
    "plt.barh(range(len(indices)), importances[indices], color='#E69B29', align='center')\n",
    "plt.yticks(range(len(indices)), [features[i] for i in indices])\n",
    "plt.xlabel('Relative Importance')\n",
    "plt.show()"
   ]
  },
  {
   "cell_type": "markdown",
   "metadata": {},
   "source": [
    "# Thank you!"
   ]
  }
 ],
 "metadata": {
  "kernelspec": {
   "display_name": "Python 3",
   "language": "python",
   "name": "python3"
  },
  "language_info": {
   "codemirror_mode": {
    "name": "ipython",
    "version": 3
   },
   "file_extension": ".py",
   "mimetype": "text/x-python",
   "name": "python",
   "nbconvert_exporter": "python",
   "pygments_lexer": "ipython3",
   "version": "3.6.8"
  }
 },
 "nbformat": 4,
 "nbformat_minor": 2
}
